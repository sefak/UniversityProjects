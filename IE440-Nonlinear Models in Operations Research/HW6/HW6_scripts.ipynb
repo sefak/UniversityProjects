{
 "cells": [
  {
   "cell_type": "markdown",
   "metadata": {},
   "source": [
    "# Homework 6"
   ]
  },
  {
   "cell_type": "code",
   "execution_count": 1,
   "metadata": {},
   "outputs": [],
   "source": [
    "import pandas as pd\n",
    "import numpy as np\n",
    "from sympy import Symbol, lambdify\n",
    "import matplotlib.pyplot as plt"
   ]
  },
  {
   "cell_type": "code",
   "execution_count": 2,
   "metadata": {},
   "outputs": [],
   "source": [
    "train_data = pd.read_csv('Input/training.dat', sep=' ', header=None, names=['x', 'y']);\n",
    "test_data = pd.read_csv('Input/test.dat', sep=' ', header=None, names=['x', 'y']);\n",
    "\n",
    "x_train = np.array(train_data['x'])\n",
    "y_train = np.array(train_data['y'])\n",
    "\n",
    "x_test = np.array(test_data['x'])\n",
    "y_test = np.array(test_data['y'])\n",
    "\n",
    "norm_train = np.array(train_data)\n",
    "norm_train = (norm_train - norm_train.mean(0)) / norm_train.std(0)\n",
    "\n",
    "# comment out below lines to use normalized data\n",
    "\n",
    "#x_train = norm_train[:,0]\n",
    "#y_train = norm_train[:,1]\n",
    "\n",
    "w0 = Symbol(\"w0\")\n",
    "w1 = Symbol(\"w1\")\n",
    "w2 = Symbol(\"w2\")\n",
    "\n",
    "func_a_coefficients = np.array([np.sum(y_train**2), 1*np.size(y_train), np.sum((x_train**2)), np.sum(2*y_train), np.sum(2*y_train*x_train), np.sum(2*x_train)])\n",
    "func_a_variables = np.array([1, w0**2, w1**2, -w0, -w1, w0*w1])\n",
    "\n",
    "func_b_coefficient = np.array([np.sum(y_train**2), 1*np.size(y_train), np.sum(x_train**2), np.sum(x_train**4), np.sum(2*y_train), np.sum(2*y_train*x_train), np.sum(2*y_train*x_train**2), np.sum(2*x_train), np.sum(2*x_train**2), np.sum(2*x_train**3)])\n",
    "func_b_variables = np.array([1, w0**2, w1**2, w2**2, -w0, -w1, -w2, w0*w1, w0*w2, w1*w2])\n",
    "\n",
    "func_a = np.sum(func_a_coefficients*func_a_variables)\n",
    "f_a = lambdify([[w0, w1]], func_a, \"numpy\")\n",
    "gf_a = lambdify([[w0, w1]], func_a.diff([[w0, w1]]), \"numpy\")\n",
    "grad_fa = lambda x_arr : np.array(gf_a(x_arr), 'float64').reshape(1,len(x_arr))\n",
    "\n",
    "func_b = np.sum(func_b_coefficient*func_b_variables)\n",
    "f_b = lambdify([[w0, w1, w2]], func_b, \"numpy\")\n",
    "gf_b = lambdify([[w0, w1, w2]], func_b.diff([[w0, w1, w2]]), \"numpy\")\n",
    "grad_fb = lambda x_arr : np.array(gf_b(x_arr), 'float64').reshape(1,len(x_arr))"
   ]
  },
  {
   "cell_type": "markdown",
   "metadata": {},
   "source": [
    "### Useful Functions"
   ]
  },
  {
   "cell_type": "code",
   "execution_count": 3,
   "metadata": {},
   "outputs": [],
   "source": [
    "regA = lambda w_s, x_arr : x_arr * w_s[1,0] + w_s[0,0]\n",
    "regB = lambda w_s, x_arr : x_arr**2 * w_s[2,0] + x_arr * w_s[1,0] + w_s[0,0]"
   ]
  },
  {
   "cell_type": "code",
   "execution_count": 4,
   "metadata": {},
   "outputs": [],
   "source": [
    "def plotRegressionGraph(data, regFunc, w_star, title, name=\"graph\"):\n",
    "    xmin = data[:,0].min()\n",
    "    xmax = data[:,0].max()\n",
    "    t1 = np.arange(xmin-1, xmax+1, 0.1)\n",
    "    plt.figure()\n",
    "    plt.plot(t1, regFunc(w_star, t1), 'b-', label='Regression line')\n",
    "    plt.scatter(data[:,0], data[:,1], color=\"black\", label=\"Data points\")\n",
    "    plt.title(title)\n",
    "    plt.legend()\n",
    "    plt.savefig(\"{0}.png\".format(name))"
   ]
  },
  {
   "cell_type": "code",
   "execution_count": 5,
   "metadata": {},
   "outputs": [],
   "source": [
    "np_str = lambda x_k : np.array2string(x_k.reshape(len(x_k)), precision=3, separator=',')\n",
    "\n",
    "f_str = lambda x : \"{0:.4f}\".format(x)"
   ]
  },
  {
   "cell_type": "code",
   "execution_count": 6,
   "metadata": {},
   "outputs": [],
   "source": [
    "class OutputTable:    \n",
    "    def __init__(self):\n",
    "        self.table = pd.DataFrame([],columns=['k', 'x^k', 'f(x^k)', 'd^k', 'a^k', 'x^k+1'])\n",
    "    def add_row(self, k, xk, fxk, dk, ak, xkp):\n",
    "        self.table.loc[len(self.table)] = [k, np_str(xk), f_str(fxk.item()), np_str(dk), ak, np_str(xkp)]\n",
    "    def print_latex(self):\n",
    "        print(self.table.to_latex(index=False))"
   ]
  },
  {
   "cell_type": "markdown",
   "metadata": {},
   "source": [
    "## Part A : Least Square Method with Steepest Descent"
   ]
  },
  {
   "cell_type": "markdown",
   "metadata": {},
   "source": [
    "### Exact Line Search"
   ]
  },
  {
   "cell_type": "code",
   "execution_count": 7,
   "metadata": {},
   "outputs": [],
   "source": [
    "def BisectionMethod(f,epsilon, a=-100,b=100) :\n",
    "    iteration=0\n",
    "    while (b - a) >= epsilon:\n",
    "        x_1 = (a + b) / 2\n",
    "        fx_1 = f(x_1)\n",
    "        if f(x_1 + epsilon) <= fx_1:\n",
    "            a = x_1\n",
    "        else:\n",
    "            b = x_1\n",
    "        iteration+=1\n",
    "    x_star = (a+b)/2\n",
    "    return x_star\n",
    "\n",
    "def NewtonsMethod(df, ddf, x_0, epsilon, a, b):\n",
    "    iteration = 0\n",
    "    while True:\n",
    "        dfx0 = df(x_0)\n",
    "        ddfx0 = ddf(x_0)\n",
    "        x_1 = x_0-dfx0/ddfx0\n",
    "        iteration +=1\n",
    "        if abs(x_0-x_1)<epsilon:\n",
    "            break\n",
    "        if x_1<a or x_1>b:\n",
    "            break\n",
    "        x_0 = x_1\n",
    "    x_star = x_0\n",
    "    return x_star\n",
    "\n",
    "def ExactLineSearch(f, x0, d, eps=10**(-10)):\n",
    "    alpha = Symbol('alpha')\n",
    "    function_alpha = f(np.array(x0)+alpha*np.array(d)).item()\n",
    "    f_alp = lambdify(alpha, function_alpha)\n",
    "    bisecEps = 10**(-4)\n",
    "    alp_star = BisectionMethod(f_alp, epsilon=bisecEps)\n",
    "    df_alp = lambdify(alpha, function_alpha.diff(alpha))\n",
    "    ddf_alp = lambdify(alpha, function_alpha.diff(alpha).diff(alpha))\n",
    "    alp_star = NewtonsMethod(df_alp, ddf_alp, alp_star, eps, alp_star-bisecEps, alp_star+bisecEps)\n",
    "    return alp_star"
   ]
  },
  {
   "cell_type": "markdown",
   "metadata": {},
   "source": [
    "### Steepest Descent Method"
   ]
  },
  {
   "cell_type": "code",
   "execution_count": 8,
   "metadata": {},
   "outputs": [],
   "source": [
    "def steepestDescentMethod(f, grad_f, x_0, descentEpsilon, exactLineEpsilon=10**(-10)):\n",
    "    xk = np.array(x_0).reshape(-1,1)\n",
    "    k = 0\n",
    "    stop = False\n",
    "    output = OutputTable()\n",
    "    while(stop == False):\n",
    "        d = - np.transpose(grad_f(xk))\n",
    "        if(np.linalg.norm(d) < descentEpsilon):\n",
    "            stop = True\n",
    "        else:\n",
    "            a = ExactLineSearch(f,xk,d, exactLineEpsilon)\n",
    "            xkp = xk + a*d\n",
    "            output.add_row(k, xk, f(xk), d, a, xkp)\n",
    "            k += 1\n",
    "            xk = xkp\n",
    "            if(k>100):\n",
    "                break\n",
    "    output.add_row(k,xk,f(xk),d,None,np.array([]))\n",
    "    print(\"Total iteration : {0}\".format(k))\n",
    "    return xk, f(xk).item(), output"
   ]
  },
  {
   "cell_type": "code",
   "execution_count": 9,
   "metadata": {},
   "outputs": [
    {
     "name": "stdout",
     "output_type": "stream",
     "text": [
      "Total iteration : 9\n"
     ]
    },
    {
     "data": {
      "text/plain": [
       "(array([[113.34987312],\n",
       "        [  0.74045582]]),\n",
       " 3835642.7250206247,\n",
       " 50246.68568956938,\n",
       " 10689612467.303635)"
      ]
     },
     "execution_count": 9,
     "metadata": {},
     "output_type": "execute_result"
    }
   ],
   "source": [
    "ws_a, fs_a, outputs_a = steepestDescentMethod(f_a, grad_fa, [0,0], 0.005)\n",
    "\n",
    "SSE_train_a = fs_a\n",
    "MSE_test_a = np.sum((y_test-regA(ws_a,x_test))**2)/np.size(y_test)\n",
    "var_test_a = np.sum((MSE_test_a-(y_test-regA(ws_a,x_test))**2)**2)/(np.size(y_test)-1)\n",
    "ws_a, SSE_train_a, MSE_test_a, var_test_a"
   ]
  },
  {
   "cell_type": "code",
   "execution_count": 10,
   "metadata": {},
   "outputs": [
    {
     "data": {
      "image/png": "[encoded data removed]",
      "text/plain": [
       "<Figure size 432x288 with 1 Axes>"
      ]
     },
     "metadata": {
      "needs_background": "light"
     },
     "output_type": "display_data"
    }
   ],
   "source": [
    "plotRegressionGraph(np.array(train_data), regA, ws_a, \"Linear Regression and Train Data\", \"part1a_train\")"
   ]
  },
  {
   "cell_type": "code",
   "execution_count": 11,
   "metadata": {},
   "outputs": [
    {
     "data": {
      "image/png": "[encoded data removed]",
      "text/plain": [
       "<Figure size 432x288 with 1 Axes>"
      ]
     },
     "metadata": {
      "needs_background": "light"
     },
     "output_type": "display_data"
    }
   ],
   "source": [
    "plotRegressionGraph(np.array(test_data), regA, ws_a, \"Linear Regression and Test Data\", \"part1a_test\")"
   ]
  },
  {
   "cell_type": "code",
   "execution_count": 12,
   "metadata": {},
   "outputs": [
    {
     "name": "stdout",
     "output_type": "stream",
     "text": [
      "Total iteration : 101\n"
     ]
    },
    {
     "data": {
      "text/plain": [
       "(array([[ 5.26127578e-03],\n",
       "        [ 1.49525475e+00],\n",
       "        [-7.66019510e-04]]),\n",
       " 3506233.1120957993,\n",
       " 43743.010704807275,\n",
       " 8605111510.643654)"
      ]
     },
     "execution_count": 12,
     "metadata": {},
     "output_type": "execute_result"
    }
   ],
   "source": [
    "ws_b, fs_b, outputs_b = steepestDescentMethod(f_b, grad_fb, [0,0,0], 0.005)\n",
    "\n",
    "SSE_train_b = fs_b\n",
    "MSE_test_b = np.sum((y_test-regB(ws_b,x_test))**2)/np.size(y_test)\n",
    "var_test_b = np.sum((MSE_test_b-(y_test-regB(ws_b,x_test))**2)**2)/(np.size(y_test)-1)\n",
    "ws_b, SSE_train_b, MSE_test_b, var_test_b"
   ]
  },
  {
   "cell_type": "code",
   "execution_count": 13,
   "metadata": {},
   "outputs": [
    {
     "data": {
      "image/png": "[encoded data removed]",
      "text/plain": [
       "<Figure size 432x288 with 1 Axes>"
      ]
     },
     "metadata": {
      "needs_background": "light"
     },
     "output_type": "display_data"
    }
   ],
   "source": [
    "plotRegressionGraph(np.array(train_data), regB, ws_b, \"Linear Regression and Train Data\", \"part1b_train\")"
   ]
  },
  {
   "cell_type": "code",
   "execution_count": 14,
   "metadata": {},
   "outputs": [
    {
     "data": {
      "image/png": "[encoded data removed]",
      "text/plain": [
       "<Figure size 432x288 with 1 Axes>"
      ]
     },
     "metadata": {
      "needs_background": "light"
     },
     "output_type": "display_data"
    }
   ],
   "source": [
    "plotRegressionGraph(np.array(test_data), regB, ws_b, \"Linear Regression and Test Data\", \"part1b_test\")"
   ]
  },
  {
   "cell_type": "markdown",
   "metadata": {},
   "source": [
    "## Part B : Neural Network"
   ]
  },
  {
   "cell_type": "code",
   "execution_count": 15,
   "metadata": {},
   "outputs": [],
   "source": [
    "sigmoidalFunc = lambda output_array : 1 / (1 + np.exp(-output_array))\n",
    "sigmoidalDeriv = lambda hiddenlayer : hiddenlayer * (1 - hiddenlayer)"
   ]
  },
  {
   "cell_type": "code",
   "execution_count": 16,
   "metadata": {},
   "outputs": [],
   "source": [
    "def backpropagation(trainingData, hiddenLayerSize, alpha = 0.5, momentum = 0.9, epsilon = 0.001, seed = 440):\n",
    "    np.random.seed(seed)\n",
    "    t = 0\n",
    "    patterns = np.copy(trainingData)\n",
    "    patterns = np.insert(patterns, 0, -1, axis=1) # x0 = -1 unit is added\n",
    "    P = np.size(patterns, 0) # pattern size\n",
    "    I = 1 # output unit size\n",
    "    K = np.size(patterns, 1) - I # input layer size\n",
    "    J = hiddenLayerSize + 1 # h0 = -1 is added\n",
    "    w_matrix = np.random.rand(J, K) # weights between input and hidden layer (we will exclude first row in the result since h0 is excluded)\n",
    "    W_matrix = np.random.rand(I, J) # weight between hidden and output layer\n",
    "    while(alpha >= epsilon):\n",
    "        np.random.shuffle(patterns)\n",
    "        x = np.transpose(patterns[:,:-1]).reshape(K, -1)\n",
    "        y = patterns[:,-1]\n",
    "        H = np.zeros(J)\n",
    "        H[0] = -1 # h0 is equal to -1\n",
    "        O = np.zeros_like(y)\n",
    "        for p in range(P):\n",
    "            for j in range(1,J):\n",
    "                hj = np.sum(w_matrix[j] * x[:,p])\n",
    "                H[j] = sigmoidalFunc(hj)\n",
    "            for i in range(I):\n",
    "                o = np.sum(W_matrix[i] * H)\n",
    "                O[p] = o # linear function g(x) = x\n",
    "            S_O = 0 # since there is only one output unit\n",
    "            S_H = np.zeros_like(H)\n",
    "            for i in range(I):\n",
    "                S_O = 1 * (y[p] - O[p])\n",
    "            for j in range(1,J):\n",
    "                S_H[j] = sigmoidalDeriv(H[j]) * np.sum(W_matrix[0,j] * S_O)\n",
    "            for j in range(J):\n",
    "                dWj = alpha * S_O * H[j]\n",
    "                W_matrix[0,j] += dWj\n",
    "            for k in range(K):\n",
    "                dwk = alpha * S_H * x[k,p]\n",
    "                w_matrix[:,k] += dwk\n",
    "        alpha *= momentum\n",
    "        t += 1\n",
    "        actualHiddens = sigmoidalFunc(w_matrix @ x)\n",
    "        actualHiddens[0,:] = -1 # h1, ..., hj\n",
    "        actualOutputMatrix = W_matrix @ actualHiddens # o1, ..., oi\n",
    "        error = np.sum(np.square(y - actualOutputMatrix))\n",
    "        #print(\"Iteration {0} : error = {1}\".format(t,error))\n",
    "    w_matrix = w_matrix[1:] # first row is removed since it corresponds to H0\n",
    "    return w_matrix, W_matrix, error"
   ]
  },
  {
   "cell_type": "code",
   "execution_count": 17,
   "metadata": {},
   "outputs": [],
   "source": [
    "def backpropagationWithMatrix(patterns, hiddenLayerSize, alpha = 0.5, momentum = 0.9, epsilon = 0.001, seed = 440):\n",
    "    np.random.seed(seed)\n",
    "    t = 0\n",
    "    P = np.size(patterns, 0)\n",
    "    w_matrix = np.random.rand(hiddenLayerSize, np.size(patterns,1))*1 # patterns data includes y values, its column size is selected since we will add x0 to input layer\n",
    "    W_matrix = np.random.rand(1, hiddenLayerSize+1)*1 # we will add h0 to hidden layer\n",
    "    while(alpha > epsilon):\n",
    "        np.random.shuffle(patterns)\n",
    "        desiredOutputs = patterns[:,-1].reshape(-1,1)\n",
    "        inputLayers = np.transpose(np.insert(patterns, 0, -1, axis=1)[:,:-1]) # x0 is added to all patterns and its value is -1, output values are excluded\n",
    "        hiddenLayer = np.zeros((hiddenLayerSize+1, 1)) # hiddenlayersize doesn't include h0 so it's added\n",
    "        hiddenLayer[0,:] = -1 # h0 is equal to -1\n",
    "        actualOutput = np.zeros_like(desiredOutputs)\n",
    "        for p in range(P):\n",
    "            hiddenLayer[1:] = sigmoidalFunc(w_matrix @ inputLayers[:,p].reshape(-1,1))\n",
    "            actualOutput[p] = W_matrix @ hiddenLayer\n",
    "            # since the function is linear, net output is equal to actual output\n",
    "            S_output = (1 * (desiredOutputs[p] - actualOutput[p])).reshape(-1,1)\n",
    "            S_hidden = (sigmoidalDeriv(hiddenLayer[1:]) * (np.transpose(W_matrix[:,1:]) @ S_output)).reshape(-1,1)\n",
    "            delta_W = alpha * S_output @ np.transpose(hiddenLayer)\n",
    "            W_matrix += delta_W\n",
    "            delta_w = alpha * S_hidden @ np.transpose(inputLayers[:,p].reshape(-1,1))\n",
    "            w_matrix += delta_w\n",
    "        alpha = momentum * alpha\n",
    "        t += 1\n",
    "        actualHiddens = sigmoidalFunc(w_matrix @ inputLayers) # h1, ..., hj\n",
    "        actualOutputMatrix = W_matrix @ np.insert(actualHiddens, 0, -1, axis=0) # o1, ..., oi\n",
    "        error = np.sum(np.square(desiredOutputs - np.transpose(actualOutputMatrix)))\n",
    "        #print(\"Iteration {0} : error = {1}\".format(t,error))\n",
    "    return w_matrix, W_matrix, error"
   ]
  },
  {
   "cell_type": "code",
   "execution_count": 18,
   "metadata": {},
   "outputs": [
    {
     "data": {
      "text/plain": [
       "(array([[ 8.47339514e-01,  3.97995080e-01],\n",
       "        [ 6.16147498e-01,  6.29039082e-01],\n",
       "        [ 3.13448399e+02, -3.69468170e+04]]),\n",
       " array([[-127.77235014,  128.42128315,  128.78880676,  249.38554076]]),\n",
       " 7954415.602024415)"
      ]
     },
     "execution_count": 18,
     "metadata": {},
     "output_type": "execute_result"
    }
   ],
   "source": [
    "patterns = np.array(train_data)\n",
    "backpropagation(patterns, 3, seed=440)"
   ]
  },
  {
   "cell_type": "code",
   "execution_count": 19,
   "metadata": {},
   "outputs": [
    {
     "data": {
      "text/plain": [
       "(array([[  0.62495165, -21.52694768],\n",
       "        [  0.25547392,   0.39632991],\n",
       "        [  0.3773151 ,   0.99657423]]),\n",
       " array([[-128.24385088, 1238.84623456,  129.41258477,  128.96205743]]),\n",
       " 7953714.347670076)"
      ]
     },
     "execution_count": 19,
     "metadata": {},
     "output_type": "execute_result"
    }
   ],
   "source": [
    "patterns = np.array(train_data)\n",
    "backpropagationWithMatrix(patterns, 3, seed=50)"
   ]
  },
  {
   "cell_type": "code",
   "execution_count": 20,
   "metadata": {},
   "outputs": [
    {
     "data": {
      "text/plain": [
       "(array([[0.39799508, 0.6161475 , 0.62903908],\n",
       "        [0.15285732, 0.17501496, 0.38176556],\n",
       "        [0.26716745, 0.63469106, 0.28434213]]),\n",
       " array([[-96.51737743,  98.39875203,  98.06407988,  97.76263623]]),\n",
       " 7954322.33853856)"
      ]
     },
     "execution_count": 20,
     "metadata": {},
     "output_type": "execute_result"
    }
   ],
   "source": [
    "patterns2 = np.insert(np.array(train_data), 1, np.square(train_data['x']), axis=1)\n",
    "backpropagation(patterns2, 3)"
   ]
  },
  {
   "cell_type": "code",
   "execution_count": 21,
   "metadata": {},
   "outputs": [],
   "source": [
    "def averageError(w_matrix, W_matrix, test_data):\n",
    "    inputLayers = np.transpose(np.insert(test_data, 0, -1, axis=1)[:,:-1]) # h1, ..., hj\n",
    "    desiredOutputs = test_data[:,-1].reshape(-1,1)\n",
    "    actualHiddens = sigmoidalFunc(w_matrix @ inputLayers)\n",
    "    actualOutputMatrix = W_matrix @ np.insert(actualHiddens, 0, -1, axis=0) # o1, ..., oi\n",
    "    squareResiduals = np.square(desiredOutputs - np.transpose(actualOutputMatrix))\n",
    "    sse = np.sum(squareResiduals)\n",
    "    mse = sse / np.size(desiredOutputs)\n",
    "    variance = np.sum(np.square(mse-squareResiduals)) / (np.size(desiredOutputs) - 1)\n",
    "    return mse, variance"
   ]
  },
  {
   "cell_type": "code",
   "execution_count": 22,
   "metadata": {},
   "outputs": [],
   "source": [
    "def hiddenUnit(train_data, test_data, Jq = 3, epsilon = 0.001, seed = 440):\n",
    "    train = np.array(train_data)\n",
    "    test = np.array(test_data)\n",
    "    q = 1\n",
    "    Et = np.infty\n",
    "    while(True):\n",
    "        patterns = np.copy(train)\n",
    "        w, W, total_error = backpropagation(patterns, Jq, epsilon=epsilon, seed = seed)\n",
    "        Etp, var = averageError(w, W, test)\n",
    "        print(\"{0} hidden units : MSE = {1} , variance = {2}\".format(Jq,Etp,var))\n",
    "        if(Etp >= Et):\n",
    "            break\n",
    "        Jq += 1\n",
    "        q += 1\n",
    "        Et = Etp\n",
    "    return Jq-1, Et"
   ]
  },
  {
   "cell_type": "code",
   "execution_count": 23,
   "metadata": {},
   "outputs": [
    {
     "name": "stdout",
     "output_type": "stream",
     "text": [
      "3 hidden units : MSE = 99809.23449953625 , variance = 21303014605.258526\n",
      "4 hidden units : MSE = 99769.40473595812 , variance = 21230429635.30169\n",
      "5 hidden units : MSE = 99539.03958209316 , variance = 20795803720.511967\n",
      "6 hidden units : MSE = 99572.37714493924 , variance = 20860392979.14613\n"
     ]
    },
    {
     "data": {
      "text/plain": [
       "(5, 99539.03958209316)"
      ]
     },
     "execution_count": 23,
     "metadata": {},
     "output_type": "execute_result"
    }
   ],
   "source": [
    "hiddenUnit(train_data, test_data, epsilon=0.001, seed = 440)"
   ]
  },
  {
   "cell_type": "code",
   "execution_count": 24,
   "metadata": {},
   "outputs": [
    {
     "name": "stdout",
     "output_type": "stream",
     "text": [
      "3 hidden units : MSE = 99377.58914272355 , variance = 20473670331.01753\n",
      "4 hidden units : MSE = 99756.81719579452 , variance = 21207344327.7232\n"
     ]
    },
    {
     "data": {
      "text/plain": [
       "(3, 99377.58914272355)"
      ]
     },
     "execution_count": 24,
     "metadata": {},
     "output_type": "execute_result"
    }
   ],
   "source": [
    "train_d = np.insert(np.array(train_data), 1, np.square(train_data['x']), axis=1)\n",
    "test_d = np.insert(np.array(test_data), 1, np.square(test_data['x']), axis=1)\n",
    "hiddenUnit(train_d, test_d)"
   ]
  },
  {
   "cell_type": "code",
   "execution_count": null,
   "metadata": {},
   "outputs": [],
   "source": []
  }
 ],
 "metadata": {
  "kernelspec": {
   "display_name": "Python 3",
   "language": "python",
   "name": "python3"
  },
  "language_info": {
   "codemirror_mode": {
    "name": "ipython",
    "version": 3
   },
   "file_extension": ".py",
   "mimetype": "text/x-python",
   "name": "python",
   "nbconvert_exporter": "python",
   "pygments_lexer": "ipython3",
   "version": "3.7.1"
  }
 },
 "nbformat": 4,
 "nbformat_minor": 2
}
