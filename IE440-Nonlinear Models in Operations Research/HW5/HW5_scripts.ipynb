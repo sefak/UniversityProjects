{
 "cells": [
  {
   "cell_type": "markdown",
   "metadata": {},
   "source": [
    "# Homework 5"
   ]
  },
  {
   "cell_type": "code",
   "execution_count": null,
   "metadata": {},
   "outputs": [],
   "source": [
    "import pandas as pd\n",
    "import numpy as np\n",
    "from sympy import Symbol, lambdify\n",
    "import random"
   ]
  },
  {
   "cell_type": "code",
   "execution_count": null,
   "metadata": {},
   "outputs": [],
   "source": [
    "x1 = Symbol(\"x1\")\n",
    "x2 = Symbol(\"x2\")\n",
    "x3 = Symbol(\"x3\")\n",
    "x4 = Symbol(\"x4\")\n",
    "\n",
    "func = 3*x1**2 + 2*x2**2 - 2*x1*x2 - 4*x1 + 2*x2 + 3\n",
    "f = lambdify([[x1,x2,x3,x4]], func, \"numpy\")\n",
    "gf = lambdify([[x1,x2,x3,x4]], func.diff([[x1, x2,x3,x4]]), \"numpy\")\n",
    "grad_f = lambda x_arr : np.array(gf(x_arr), 'float64').reshape(1,len(x_arr))\n",
    "\n",
    "A = np.array([[1, 1, 1, 0],\n",
    "              [1, 1, 0, 1]])\n",
    "b = np.array([2,5]).reshape(2,1)\n",
    "x1_bounds = [2, 5]\n",
    "x2_bounds = [-1, 6]\n",
    "x3_bounds = [0, 4]\n",
    "x4_bounds = [0, 10]\n",
    "bounds = [x1_bounds, x2_bounds, x3_bounds, x4_bounds]"
   ]
  },
  {
   "cell_type": "markdown",
   "metadata": {},
   "source": [
    "### Useful Functions"
   ]
  },
  {
   "cell_type": "code",
   "execution_count": null,
   "metadata": {},
   "outputs": [],
   "source": [
    "np_str = lambda x_k : np.array2string(x_k.reshape(len(x_k)), precision=3, separator=',')\n",
    "\n",
    "f_str = lambda x : \"{0:.4f}\".format(x)"
   ]
  },
  {
   "cell_type": "code",
   "execution_count": null,
   "metadata": {},
   "outputs": [],
   "source": [
    "class OutputTable:    \n",
    "    def __init__(self):\n",
    "        self.table = pd.DataFrame([],columns=['k', 'x^k', 'f(x^k)', 'd^k', 'a^k'])\n",
    "    def add_row(self, k, xk, fxk, dk, ak):\n",
    "        self.table.loc[len(self.table)] = [k, np_str(xk), f_str(fxk.item()), np_str(dk), ak]\n",
    "    def print_latex(self):\n",
    "        print(self.table.to_latex(index=False))"
   ]
  },
  {
   "cell_type": "markdown",
   "metadata": {},
   "source": [
    "### Exact Line Search"
   ]
  },
  {
   "cell_type": "code",
   "execution_count": null,
   "metadata": {},
   "outputs": [],
   "source": [
    "def GoldenSection(f,epsilon=0.005, a=-1000,b=1000):\n",
    "    golden_ratio = (1+np.sqrt(5))/2\n",
    "    gama = 1/golden_ratio\n",
    "    iteration = 0\n",
    "    x_1 = b - gama*(b-a)\n",
    "    x_2 = a + gama*(b-a)\n",
    "    fx_1 = f(x_1)\n",
    "    fx_2 = f(x_2)\n",
    "    while (b-a) >= epsilon:\n",
    "        iteration+=1\n",
    "        if(fx_1 >= fx_2):\n",
    "            a = x_1\n",
    "            x_1 = x_2\n",
    "            x_2 = a + gama*(b-a)\n",
    "            fx_1 = fx_2\n",
    "            fx_2 = f(x_2)\n",
    "        else:\n",
    "            b = x_2\n",
    "            x_2 = x_1\n",
    "            x_1 = b - gama*(b-a)\n",
    "            fx_2 = fx_1\n",
    "            fx_1 = f(x_1)\n",
    "    x_star = (a+b)/2\n",
    "    fx_star = f(x_star)\n",
    "    return x_star"
   ]
  },
  {
   "cell_type": "code",
   "execution_count": null,
   "metadata": {},
   "outputs": [],
   "source": [
    "def ExactLineSearch(f, x0, d, a_max, eps=0.0000000001):\n",
    "    alpha = Symbol('alpha')\n",
    "    function_alpha = f(np.array(x0)+alpha*np.array(d))\n",
    "    f_alp = lambdify(alpha, function_alpha, 'numpy')\n",
    "    alp_star = GoldenSection(f_alp, epsilon=eps, a=0, b=a_max)\n",
    "    return alp_star"
   ]
  },
  {
   "cell_type": "markdown",
   "metadata": {},
   "source": [
    "## Reduced Gradient Method"
   ]
  },
  {
   "cell_type": "code",
   "execution_count": null,
   "metadata": {},
   "outputs": [],
   "source": [
    "def determineBasicAndNonbasics(xk, bounds, A):\n",
    "    basics = []\n",
    "    nonbasics = []\n",
    "    m = len(A)\n",
    "    for i in range(len(bounds)):\n",
    "        if(bounds[i][0] < xk[i,0] < bounds[i][1]):\n",
    "            basics.append(i)\n",
    "        else:\n",
    "            nonbasics.append(i)\n",
    "    while len(basics) > m:\n",
    "        random.shuffle(basics)\n",
    "        new_basics = basics[0:m]\n",
    "        if np.linalg.det(A[:,new_basics]) == 0: # found set is linearly dependent\n",
    "            continue\n",
    "        nonbasics = nonbasics + basics[m:]\n",
    "        basics = new_basics\n",
    "    return basics, nonbasics"
   ]
  },
  {
   "cell_type": "code",
   "execution_count": null,
   "metadata": {},
   "outputs": [],
   "source": [
    "def ReducedGradient(x0, f=f, gradf=grad_f, eps=0.001, A=A, b=b, bounds=bounds, float_prec=6):\n",
    "    k = 0\n",
    "    xk = np.array(x0).reshape(len(x0),1)\n",
    "    output = OutputTable()\n",
    "    repeat = True\n",
    "    while(repeat):\n",
    "        basics, nonbasics = determineBasicAndNonbasics(xk, bounds, A)\n",
    "        B = A[:,basics]\n",
    "        N = A[:,nonbasics]\n",
    "        Binv = np.linalg.inv(B)\n",
    "        gradfk = gradf(xk)\n",
    "        gradB = gradfk[:,basics]\n",
    "        gradN = gradfk[:,nonbasics]\n",
    "        rNk = gradN - gradB @ Binv @ N\n",
    "        rBk = 0\n",
    "        rk = np.zeros((1,len(xk)))\n",
    "        np.put(rk, nonbasics, rNk) # since rBk is 0, we only put rNk into rk\n",
    "        dk = np.zeros_like(xk)\n",
    "        for i in nonbasics:\n",
    "            if xk[i] == bounds[i][0] and rk[0,i] < 0:\n",
    "                dk[i,0] = -rk[0,i]\n",
    "            elif xk[i] == bounds[i][1] and rk[0,i] > 0:\n",
    "                dk[i,0] = -rk[0,i]\n",
    "            elif bounds[i][0] < xk[i] < bounds[i][1]:\n",
    "                dk[i,0] = -rk[0,i]\n",
    "            else:\n",
    "                dk[i,0] = 0\n",
    "        dkB = - Binv @ N @ dk[nonbasics]\n",
    "        np.put(dk, basics, dkB)\n",
    "        a_max = 1000 # given upper limit\n",
    "        for i in range(len(xk)):\n",
    "            if(dk[i,0] == 0): # max value is infinity if dkj is 0\n",
    "                continue\n",
    "            a_max = min(a_max, max((bounds[i]-xk[i])/dk[i,0]))\n",
    "        ak = ExactLineSearch(f,xk,dk,a_max)\n",
    "        output.add_row(k, xk, f(xk), dk, ak)\n",
    "        xkp = xk + ak * dk\n",
    "        k += 1\n",
    "        xk = np.round(xkp, float_prec) # rounding is required since the float calculations can cause precision problem\n",
    "        if np.linalg.norm(dk) < eps:\n",
    "            repeat = False\n",
    "    output.add_row(k, xk, f(xk), np.array([]), None)\n",
    "    return xk, f(xk).item(), output"
   ]
  },
  {
   "cell_type": "code",
   "execution_count": null,
   "metadata": {},
   "outputs": [
    {
     "data": {
      "text/html": "<div>\n<style scoped>\n    .dataframe tbody tr th:only-of-type {\n        vertical-align: middle;\n    }\n\n    .dataframe tbody tr th {\n        vertical-align: top;\n    }\n\n    .dataframe thead th {\n        text-align: right;\n    }\n</style>\n<table border=\"1\" class=\"dataframe\">\n  <thead>\n    <tr style=\"text-align: right;\">\n      <th></th>\n      <th>k</th>\n      <th>x^k</th>\n      <th>f(x^k)</th>\n      <th>d^k</th>\n      <th>a^k</th>\n    </tr>\n  </thead>\n  <tbody>\n    <tr>\n      <th>0</th>\n      <td>0</td>\n      <td>[ 3,-1, 0, 3]</td>\n      <td>24.0000</td>\n      <td>[-40, 24, 16, 16]</td>\n      <td>0.025000</td>\n    </tr>\n    <tr>\n      <th>1</th>\n      <td>1</td>\n      <td>[ 2. ,-0.4, 0.4, 3.4]</td>\n      <td>8.1200</td>\n      <td>[ 0. , 3.6,-3.6,-3.6]</td>\n      <td>0.111111</td>\n    </tr>\n    <tr>\n      <th>2</th>\n      <td>2</td>\n      <td>[ 2.,-0., 0., 3.]</td>\n      <td>7.0000</td>\n      <td>[0.,0.,0.,0.]</td>\n      <td>1000.000000</td>\n    </tr>\n    <tr>\n      <th>3</th>\n      <td>3</td>\n      <td>[2.,0.,0.,3.]</td>\n      <td>7.0000</td>\n      <td>[]</td>\n      <td>NaN</td>\n    </tr>\n  </tbody>\n</table>\n</div>",
      "text/plain": "   k                    x^k   f(x^k)                    d^k          a^k\n0  0          [ 3,-1, 0, 3]  24.0000      [-40, 24, 16, 16]     0.025000\n1  1  [ 2. ,-0.4, 0.4, 3.4]   8.1200  [ 0. , 3.6,-3.6,-3.6]     0.111111\n2  2      [ 2.,-0., 0., 3.]   7.0000          [0.,0.,0.,0.]  1000.000000\n3  3          [2.,0.,0.,3.]   7.0000                     []          NaN"
     },
     "execution_count": null,
     "metadata": {},
     "output_type": "execute_result"
    }
   ],
   "source": [
    "xk = np.array([3, -1, 0, 3]).reshape(4,1)\n",
    "xs1, fxs1, out1 = ReducedGradient(xk)\n",
    "out1.table"
   ]
  },
  {
   "cell_type": "code",
   "execution_count": null,
   "metadata": {},
   "outputs": [
    {
     "data": {
      "text/html": "<div>\n<style scoped>\n    .dataframe tbody tr th:only-of-type {\n        vertical-align: middle;\n    }\n\n    .dataframe tbody tr th {\n        vertical-align: top;\n    }\n\n    .dataframe thead th {\n        text-align: right;\n    }\n</style>\n<table border=\"1\" class=\"dataframe\">\n  <thead>\n    <tr style=\"text-align: right;\">\n      <th></th>\n      <th>k</th>\n      <th>x^k</th>\n      <th>f(x^k)</th>\n      <th>d^k</th>\n      <th>a^k</th>\n    </tr>\n  </thead>\n  <tbody>\n    <tr>\n      <th>0</th>\n      <td>0</td>\n      <td>[ 2,-1, 1, 4]</td>\n      <td>11.0000</td>\n      <td>[ 0, 6,-6,-6]</td>\n      <td>0.166667</td>\n    </tr>\n    <tr>\n      <th>1</th>\n      <td>1</td>\n      <td>[ 2.,-0., 0., 3.]</td>\n      <td>7.0000</td>\n      <td>[0.,0.,0.,0.]</td>\n      <td>1000.000000</td>\n    </tr>\n    <tr>\n      <th>2</th>\n      <td>2</td>\n      <td>[2.,0.,0.,3.]</td>\n      <td>7.0000</td>\n      <td>[]</td>\n      <td>NaN</td>\n    </tr>\n  </tbody>\n</table>\n</div>",
      "text/plain": "   k                x^k   f(x^k)            d^k          a^k\n0  0      [ 2,-1, 1, 4]  11.0000  [ 0, 6,-6,-6]     0.166667\n1  1  [ 2.,-0., 0., 3.]   7.0000  [0.,0.,0.,0.]  1000.000000\n2  2      [2.,0.,0.,3.]   7.0000             []          NaN"
     },
     "execution_count": null,
     "metadata": {},
     "output_type": "execute_result"
    }
   ],
   "source": [
    "xk = np.array([2, -1, 1, 4]).reshape(4,1)\n",
    "xs2, fxs2, out2 = ReducedGradient(xk)\n",
    "out2.table"
   ]
  }
 ],
 "metadata": {
  "kernelspec": {
   "display_name": "Python 3",
   "language": "python",
   "name": "python3"
  },
  "language_info": {
   "codemirror_mode": {
    "name": "ipython",
    "version": 3
   },
   "file_extension": ".py",
   "mimetype": "text/x-python",
   "name": "python",
   "nbconvert_exporter": "python",
   "pygments_lexer": "ipython3",
   "version": "3.7.4"
  },
  "varInspector": {
   "cols": {
    "lenName": 16,
    "lenType": 16,
    "lenVar": 40
   },
   "kernels_config": {
    "python": {
     "delete_cmd_postfix": "",
     "delete_cmd_prefix": "del ",
     "library": "var_list.py",
     "varRefreshCmd": "print(var_dic_list())"
    },
    "r": {
     "delete_cmd_postfix": ") ",
     "delete_cmd_prefix": "rm(",
     "library": "var_list.r",
     "varRefreshCmd": "cat(var_dic_list()) "
    }
   },
   "types_to_exclude": [
    "module",
    "function",
    "builtin_function_or_method",
    "instance",
    "_Feature"
   ],
   "window_display": false
  }
 },
 "nbformat": 4,
 "nbformat_minor": 2
}